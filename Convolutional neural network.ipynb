{
 "cells": [
  {
   "cell_type": "code",
   "execution_count": 1,
   "id": "ff61fb7a",
   "metadata": {},
   "outputs": [],
   "source": [
    "import tensorflow as tf\n",
    "import pandas as pd\n",
    "from keras.preprocessing.image import ImageDataGenerator"
   ]
  },
  {
   "cell_type": "code",
   "execution_count": 7,
   "id": "8590386b",
   "metadata": {},
   "outputs": [
    {
     "name": "stdout",
     "output_type": "stream",
     "text": [
      "Found 8000 images belonging to 2 classes.\n"
     ]
    }
   ],
   "source": [
    "train_datagen = ImageDataGenerator(rescale = 1./255,\n",
    "                                   shear_range = 0.2,\n",
    "                                   zoom_range = 0.2,\n",
    "                                   horizontal_flip = True)\n",
    "training_set = train_datagen.flow_from_directory(\"training_set\",\n",
    "                                                 target_size = (64, 64),\n",
    "                                                 batch_size = 32,\n",
    "                                                 class_mode = 'binary')"
   ]
  },
  {
   "cell_type": "code",
   "execution_count": 8,
   "id": "829d8cfd",
   "metadata": {},
   "outputs": [
    {
     "name": "stdout",
     "output_type": "stream",
     "text": [
      "Found 2000 images belonging to 2 classes.\n"
     ]
    }
   ],
   "source": [
    "test_datagen = ImageDataGenerator(rescale = 1./255)\n",
    "test_set = test_datagen.flow_from_directory('test_set',\n",
    "                                            target_size = (64, 64),\n",
    "                                            batch_size = 32,\n",
    "                                            class_mode = 'binary')"
   ]
  },
  {
   "cell_type": "code",
   "execution_count": 11,
   "id": "0ef69a5f",
   "metadata": {},
   "outputs": [],
   "source": [
    "cnn=tf.keras.models.Sequential()"
   ]
  },
  {
   "cell_type": "code",
   "execution_count": 14,
   "id": "f7d6adb9",
   "metadata": {},
   "outputs": [],
   "source": [
    "cnn.add(tf.keras.layers.Conv2D(filters=32,kernel_size=3,activation='relu',input_shape=[64,64,3]))"
   ]
  },
  {
   "cell_type": "code",
   "execution_count": 16,
   "id": "cee3a4cf",
   "metadata": {},
   "outputs": [],
   "source": [
    "cnn.add(tf.keras.layers.MaxPool2D(pool_size=2,strides=2))"
   ]
  },
  {
   "cell_type": "code",
   "execution_count": 17,
   "id": "b3f26b10",
   "metadata": {},
   "outputs": [],
   "source": [
    "cnn.add(tf.keras.layers.Conv2D(filters=32, kernel_size=3, activation='relu'))\n",
    "cnn.add(tf.keras.layers.MaxPool2D(pool_size=2, strides=2))"
   ]
  },
  {
   "cell_type": "code",
   "execution_count": 22,
   "id": "a4f05709",
   "metadata": {},
   "outputs": [
    {
     "name": "stdout",
     "output_type": "stream",
     "text": [
      "None\n"
     ]
    }
   ],
   "source": [
    "cnn.add(tf.keras.layers.Flatten())\n"
   ]
  },
  {
   "cell_type": "code",
   "execution_count": 24,
   "id": "391013d5",
   "metadata": {},
   "outputs": [],
   "source": [
    "cnn.add(tf.keras.layers.Dense(units=128, activation='relu'))"
   ]
  },
  {
   "cell_type": "code",
   "execution_count": 25,
   "id": "d21dafbf",
   "metadata": {},
   "outputs": [],
   "source": [
    "cnn.add(tf.keras.layers.Dense(units=1, activation='sigmoid'))"
   ]
  },
  {
   "cell_type": "code",
   "execution_count": 26,
   "id": "b18e57e4",
   "metadata": {},
   "outputs": [],
   "source": [
    "cnn.compile(optimizer='adam',loss=\"binary_crossentropy\",metrics=['accuracy'])"
   ]
  },
  {
   "cell_type": "code",
   "execution_count": 28,
   "id": "ea94ba97",
   "metadata": {},
   "outputs": [
    {
     "name": "stdout",
     "output_type": "stream",
     "text": [
      "Epoch 1/25\n",
      "250/250 [==============================] - 22s 87ms/step - loss: 0.6890 - accuracy: 0.5343 - val_loss: 0.6713 - val_accuracy: 0.5675\n",
      "Epoch 2/25\n",
      "250/250 [==============================] - 23s 92ms/step - loss: 0.6226 - accuracy: 0.6516 - val_loss: 0.6208 - val_accuracy: 0.6670\n",
      "Epoch 3/25\n",
      "250/250 [==============================] - 24s 94ms/step - loss: 0.5746 - accuracy: 0.7004 - val_loss: 0.5826 - val_accuracy: 0.6980\n",
      "Epoch 4/25\n",
      "250/250 [==============================] - 22s 88ms/step - loss: 0.5482 - accuracy: 0.7199 - val_loss: 0.5447 - val_accuracy: 0.7180\n",
      "Epoch 5/25\n",
      "250/250 [==============================] - 21s 86ms/step - loss: 0.5199 - accuracy: 0.7398 - val_loss: 0.5267 - val_accuracy: 0.7440\n",
      "Epoch 6/25\n",
      "250/250 [==============================] - 23s 91ms/step - loss: 0.5064 - accuracy: 0.7481 - val_loss: 0.4918 - val_accuracy: 0.7685\n",
      "Epoch 7/25\n",
      "250/250 [==============================] - 23s 92ms/step - loss: 0.4850 - accuracy: 0.7610 - val_loss: 0.4855 - val_accuracy: 0.7750\n",
      "Epoch 8/25\n",
      "250/250 [==============================] - 23s 91ms/step - loss: 0.4624 - accuracy: 0.7807 - val_loss: 0.4943 - val_accuracy: 0.7645\n",
      "Epoch 9/25\n",
      "250/250 [==============================] - 23s 93ms/step - loss: 0.4551 - accuracy: 0.7886 - val_loss: 0.5178 - val_accuracy: 0.7450\n",
      "Epoch 10/25\n",
      "250/250 [==============================] - 23s 93ms/step - loss: 0.4464 - accuracy: 0.7847 - val_loss: 0.5093 - val_accuracy: 0.7660\n",
      "Epoch 11/25\n",
      "250/250 [==============================] - 24s 95ms/step - loss: 0.4382 - accuracy: 0.7962 - val_loss: 0.4632 - val_accuracy: 0.7750\n",
      "Epoch 12/25\n",
      "250/250 [==============================] - 24s 94ms/step - loss: 0.4255 - accuracy: 0.7976 - val_loss: 0.4577 - val_accuracy: 0.7885\n",
      "Epoch 13/25\n",
      "250/250 [==============================] - 24s 94ms/step - loss: 0.4151 - accuracy: 0.8125 - val_loss: 0.4482 - val_accuracy: 0.7980\n",
      "Epoch 14/25\n",
      "250/250 [==============================] - 23s 93ms/step - loss: 0.4136 - accuracy: 0.8129 - val_loss: 0.4648 - val_accuracy: 0.7885\n",
      "Epoch 15/25\n",
      "250/250 [==============================] - 24s 94ms/step - loss: 0.4052 - accuracy: 0.8149 - val_loss: 0.4518 - val_accuracy: 0.7910\n",
      "Epoch 16/25\n",
      "250/250 [==============================] - 24s 96ms/step - loss: 0.3918 - accuracy: 0.8205 - val_loss: 0.4423 - val_accuracy: 0.8035\n",
      "Epoch 17/25\n",
      "250/250 [==============================] - 23s 92ms/step - loss: 0.3930 - accuracy: 0.8230 - val_loss: 0.4343 - val_accuracy: 0.8025\n",
      "Epoch 18/25\n",
      "250/250 [==============================] - 23s 94ms/step - loss: 0.3859 - accuracy: 0.8267 - val_loss: 0.4359 - val_accuracy: 0.7975\n",
      "Epoch 19/25\n",
      "250/250 [==============================] - 23s 93ms/step - loss: 0.3869 - accuracy: 0.8246 - val_loss: 0.4856 - val_accuracy: 0.7685\n",
      "Epoch 20/25\n",
      "250/250 [==============================] - 24s 94ms/step - loss: 0.3805 - accuracy: 0.8299 - val_loss: 0.4367 - val_accuracy: 0.8055\n",
      "Epoch 21/25\n",
      "250/250 [==============================] - 24s 95ms/step - loss: 0.3722 - accuracy: 0.8303 - val_loss: 0.4840 - val_accuracy: 0.7880\n",
      "Epoch 22/25\n",
      "250/250 [==============================] - 24s 97ms/step - loss: 0.3711 - accuracy: 0.8319 - val_loss: 0.4365 - val_accuracy: 0.8055\n",
      "Epoch 23/25\n",
      "250/250 [==============================] - 24s 96ms/step - loss: 0.3657 - accuracy: 0.8381 - val_loss: 0.4418 - val_accuracy: 0.8040\n",
      "Epoch 24/25\n",
      "250/250 [==============================] - 24s 97ms/step - loss: 0.3573 - accuracy: 0.8429 - val_loss: 0.4507 - val_accuracy: 0.8060\n",
      "Epoch 25/25\n",
      "250/250 [==============================] - 24s 96ms/step - loss: 0.3595 - accuracy: 0.8411 - val_loss: 0.4358 - val_accuracy: 0.8030\n"
     ]
    },
    {
     "data": {
      "text/plain": [
       "<keras.callbacks.History at 0x23f6164ca90>"
      ]
     },
     "execution_count": 28,
     "metadata": {},
     "output_type": "execute_result"
    }
   ],
   "source": [
    "cnn.fit(x=training_set,validation_data=test_set,epochs=25)"
   ]
  },
  {
   "cell_type": "code",
   "execution_count": 29,
   "id": "7e6cc8bf",
   "metadata": {},
   "outputs": [],
   "source": [
    "import numpy as np\n",
    "from keras.preprocessing import image"
   ]
  },
  {
   "cell_type": "code",
   "execution_count": 37,
   "id": "afaf1717",
   "metadata": {},
   "outputs": [
    {
     "name": "stdout",
     "output_type": "stream",
     "text": [
      "1/1 [==============================] - 0s 72ms/step\n",
      "cat\n"
     ]
    }
   ],
   "source": [
    "import numpy as np\n",
    "from tensorflow.keras.preprocessing import image\n",
    "\n",
    "test_image = image.load_img('test_set/cats/cat.4001.jpg', target_size=(64, 64))\n",
    "test_image=image.img_to_array(test_image)\n",
    "test_image=np.expand_dims(test_image,axis=0)\n",
    "result=cnn.predict(test_image)\n",
    "training_set.class_indices\n",
    "if result[0][0]==1:\n",
    "    prediction='cat'\n",
    "else:\n",
    "    prediction='dog'\n",
    "print(prediction)\n",
    "\n"
   ]
  },
  {
   "cell_type": "code",
   "execution_count": null,
   "id": "a8f62c0a",
   "metadata": {},
   "outputs": [],
   "source": []
  }
 ],
 "metadata": {
  "kernelspec": {
   "display_name": "Python 3 (ipykernel)",
   "language": "python",
   "name": "python3"
  },
  "language_info": {
   "codemirror_mode": {
    "name": "ipython",
    "version": 3
   },
   "file_extension": ".py",
   "mimetype": "text/x-python",
   "name": "python",
   "nbconvert_exporter": "python",
   "pygments_lexer": "ipython3",
   "version": "3.10.9"
  }
 },
 "nbformat": 4,
 "nbformat_minor": 5
}
